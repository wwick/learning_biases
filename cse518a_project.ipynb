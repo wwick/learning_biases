{
 "cells": [
  {
   "cell_type": "code",
   "execution_count": 7,
   "id": "8dd92f54",
   "metadata": {},
   "outputs": [],
   "source": [
    "from gridworld import GridworldMdp\n",
    "from fast_agents import FastMyopicAgent, FastOptimalAgent\n",
    "from mdp_interface import Mdp\n",
    "from agent_runner import get_reward_from_trajectory\n",
    "import numpy as np"
   ]
  },
  {
   "cell_type": "code",
   "execution_count": 2,
   "id": "f01d9957",
   "metadata": {},
   "outputs": [],
   "source": [
    "np.set_printoptions(precision=5, linewidth=200)"
   ]
  },
  {
   "cell_type": "code",
   "execution_count": 3,
   "id": "07c8d59b",
   "metadata": {},
   "outputs": [],
   "source": [
    "def gen_gridworld_arr(gridworld):\n",
    "    arr = np.zeros((3,width,height), dtype=np.int8)\n",
    "    arr[0] = np.array(gridworld.walls)\n",
    "    \n",
    "    for (x,y) in gridworld.rewards:\n",
    "        arr[1,x,y] = gridworld.rewards[(x,y)]\n",
    "        \n",
    "    (x,y) = gridworld.get_start_state()\n",
    "    arr[2,x,y] = 1\n",
    "    \n",
    "    return arr"
   ]
  },
  {
   "cell_type": "code",
   "execution_count": 4,
   "id": "f2225fd8",
   "metadata": {},
   "outputs": [],
   "source": [
    "def gen_random_connected(height, width, num_rewards):\n",
    "    for _ in range(5):\n",
    "        try:\n",
    "            return GridworldMdp.generate_random_connected(height=height,width=width,num_rewards=num_rewards,noise=0)\n",
    "        except:\n",
    "            pass\n",
    "    raise ValueError('Could not generate Gridworld')"
   ]
  },
  {
   "cell_type": "code",
   "execution_count": 12,
   "id": "4912bfc8",
   "metadata": {
    "tags": []
   },
   "outputs": [
    {
     "name": "stdout",
     "output_type": "stream",
     "text": [
      "CPU times: user 16.1 s, sys: 158 ms, total: 16.2 s\n",
      "Wall time: 16.2 s\n"
     ]
    }
   ],
   "source": [
    "%%time\n",
    "\n",
    "height=7\n",
    "width=7\n",
    "num_rewards=4\n",
    "\n",
    "gamma = 0.9\n",
    "myopic_horizon = 2\n",
    "\n",
    "INTERVENE = 1\n",
    "NOT_INTERVENE = 0\n",
    "\n",
    "num_grids = 100\n",
    "episode_length = 8\n",
    "num_interventions = 3\n",
    "\n",
    "# change this if adjusting episode_length or num_interventions\n",
    "num_trials_per_grid = 92\n",
    "\n",
    "num_entries_per_trial = 5\n",
    "num_trials = num_trials_per_grid * num_grids\n",
    "\n",
    "def get_minibatch(gridworld, curr_state, action):\n",
    "    mdp = Mdp(gridworld, curr_state)\n",
    "    next_state,reward = mdp.perform_action(action)\n",
    "    minibatch = (curr_state, action, next_state, reward)\n",
    "    return minibatch, next_state\n",
    "\n",
    "def gen_data():\n",
    "\n",
    "    data = np.zeros((num_trials,num_entries_per_trial,height,width))\n",
    "    trial = 0\n",
    "\n",
    "    for i in range(num_grids):\n",
    "        print(f'Iter {i}', end='\\r')\n",
    "        gridworld = gen_random_connected(height, width, num_rewards)\n",
    "        gridworld_arr = gen_gridworld_arr(gridworld)\n",
    "        start_state = gridworld.get_start_state()\n",
    "\n",
    "        def recurse(trajectory, curr_state, moves_left, interventions_left):\n",
    "            nonlocal gridworld, gridworld_arr, data, trial\n",
    "\n",
    "            if moves_left == 0:\n",
    "                return get_reward_from_trajectory(trajectory)\n",
    "\n",
    "            else:\n",
    "                myopic_agent = FastMyopicAgent(horizon=myopic_horizon, num_iters=moves_left)\n",
    "                myopic_agent.set_mdp(gridworld)\n",
    "                action = myopic_agent.get_action(curr_state)\n",
    "                minibatch, next_state = get_minibatch(gridworld, curr_state, action)\n",
    "                r1 = recurse(trajectory + [minibatch], next_state, moves_left-1, interventions_left)\n",
    "                \n",
    "                if interventions_left == 0:\n",
    "                    return r1\n",
    "\n",
    "                optimal_agent = FastOptimalAgent(num_iters=moves_left)\n",
    "                optimal_agent.set_mdp(gridworld)\n",
    "                action = optimal_agent.get_action(curr_state)\n",
    "                minibatch, next_state = get_minibatch(gridworld, curr_state, action)\n",
    "                r2 = recurse(trajectory + [minibatch], next_state, moves_left-1, interventions_left-1)\n",
    "\n",
    "                data[trial,:3] = gridworld_arr\n",
    "                data[trial,3] = moves_left\n",
    "                data[trial,4] = INTERVENE if r1 < r2 else NOT_INTERVENE\n",
    "                trial += 1\n",
    "                return max(r1,r2)\n",
    "\n",
    "        recurse([], start_state, episode_length, num_interventions)\n",
    "\n",
    "    return data\n",
    "\n",
    "data = gen_data()"
   ]
  },
  {
   "cell_type": "code",
   "execution_count": 39,
   "id": "fbddc698",
   "metadata": {},
   "outputs": [
    {
     "data": {
      "text/plain": [
       "(10000,)"
      ]
     },
     "execution_count": 39,
     "metadata": {},
     "output_type": "execute_result"
    }
   ],
   "source": [
    "y = data[:,3,0,0]\n",
    "y.shape"
   ]
  },
  {
   "cell_type": "code",
   "execution_count": 40,
   "id": "e910d043",
   "metadata": {},
   "outputs": [
    {
     "data": {
      "text/plain": [
       "0.2803"
      ]
     },
     "execution_count": 40,
     "metadata": {},
     "output_type": "execute_result"
    }
   ],
   "source": [
    "(y==0).mean()"
   ]
  },
  {
   "cell_type": "code",
   "execution_count": 41,
   "id": "6ce86e40",
   "metadata": {},
   "outputs": [
    {
     "data": {
      "text/plain": [
       "0.2389"
      ]
     },
     "execution_count": 41,
     "metadata": {},
     "output_type": "execute_result"
    }
   ],
   "source": [
    "(y>0).mean()"
   ]
  },
  {
   "cell_type": "code",
   "execution_count": 42,
   "id": "2b110b99",
   "metadata": {},
   "outputs": [
    {
     "data": {
      "text/plain": [
       "0.4808"
      ]
     },
     "execution_count": 42,
     "metadata": {},
     "output_type": "execute_result"
    }
   ],
   "source": [
    "(y<0).mean()"
   ]
  },
  {
   "cell_type": "code",
   "execution_count": 43,
   "id": "0a2824a3",
   "metadata": {},
   "outputs": [
    {
     "data": {
      "text/plain": [
       "5.379641657349001"
      ]
     },
     "execution_count": 43,
     "metadata": {},
     "output_type": "execute_result"
    }
   ],
   "source": [
    "y.mean()"
   ]
  },
  {
   "cell_type": "code",
   "execution_count": null,
   "id": "828b9c0b",
   "metadata": {},
   "outputs": [],
   "source": []
  },
  {
   "cell_type": "code",
   "execution_count": null,
   "id": "60911898",
   "metadata": {},
   "outputs": [],
   "source": []
  },
  {
   "cell_type": "code",
   "execution_count": null,
   "id": "1334ec9a",
   "metadata": {},
   "outputs": [],
   "source": []
  },
  {
   "cell_type": "code",
   "execution_count": null,
   "id": "3ecd6b04",
   "metadata": {},
   "outputs": [],
   "source": []
  }
 ],
 "metadata": {
  "interpreter": {
   "hash": "ed64e5a8ec65e8575703d495269facee7e989d76102892ef4c34bce8b4483af7"
  },
  "kernelspec": {
   "display_name": "base",
   "language": "python",
   "name": "python3"
  },
  "language_info": {
   "codemirror_mode": {
    "name": "ipython",
    "version": 3
   },
   "file_extension": ".py",
   "mimetype": "text/x-python",
   "name": "python",
   "nbconvert_exporter": "python",
   "pygments_lexer": "ipython3",
   "version": "3.6.13"
  }
 },
 "nbformat": 4,
 "nbformat_minor": 5
}
