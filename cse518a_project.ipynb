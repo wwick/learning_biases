{
 "cells": [
  {
   "cell_type": "code",
   "execution_count": 1,
   "id": "later-vault",
   "metadata": {},
   "outputs": [],
   "source": [
    "from gridworld import GridworldMdp\n",
    "from agents import OptimalAgent, MyopicAgent, UncalibratedAgent\n",
    "from mdp_interface import Mdp\n",
    "from agent_runner import get_reward_from_trajectory\n",
    "import numpy as np"
   ]
  },
  {
   "cell_type": "code",
   "execution_count": 2,
   "id": "stainless-helicopter",
   "metadata": {},
   "outputs": [],
   "source": [
    "class Intervention:\n",
    "\n",
    "    def __init__(self,trial_length=10,num_interventions=3,gamma=0.9):\n",
    "        self.steps_left = trial_length\n",
    "        self.interventions_left = num_interventions\n",
    "        self.optimal_agent = OptimalAgent(gamma=gamma)\n",
    "\n",
    "    def set_mdp(self,mdp):\n",
    "        self.optimal_agent.set_mdp(mdp)\n",
    "\n",
    "    def get_optimal_action(self,state):\n",
    "        return self.optimal_agent.get_action(state)\n",
    "\n",
    "    def will_intervene(self,state,agent_action):\n",
    "        raise NotImplemented(\"Cannot call will_intervene for Intervention\")\n",
    "\n",
    "    def get_action(self,state,agent_action):\n",
    "        if self.will_intervene(state,agent_action):\n",
    "            self.interventions_left -= 1\n",
    "            self.steps_left -= 1\n",
    "            return self.get_optimal_action(state)\n",
    "        self.steps_left -= 1\n",
    "        return agent_action"
   ]
  },
  {
   "cell_type": "code",
   "execution_count": 3,
   "id": "numerous-surface",
   "metadata": {},
   "outputs": [],
   "source": [
    "class RandomIntervention(Intervention):\n",
    "\n",
    "    def will_intervene(self, state, agent_action):\n",
    "        prob = self.interventions_left / self.steps_left\n",
    "        return np.random.rand() < prob"
   ]
  },
  {
   "cell_type": "code",
   "execution_count": 4,
   "id": "developed-glossary",
   "metadata": {},
   "outputs": [],
   "source": [
    "def gen_random_connected(GridworldMdp, height, width, num_rewards, noise):\n",
    "    for _ in range(5):\n",
    "        try:\n",
    "            return GridworldMdp.generate_random_connected(height=8,width=8,num_rewards=4,noise=0)\n",
    "        except:\n",
    "            pass\n",
    "    raise 'Could not generate Gridworld'"
   ]
  },
  {
   "cell_type": "code",
   "execution_count": 5,
   "id": "sophisticated-michigan",
   "metadata": {},
   "outputs": [],
   "source": [
    "num_trials = 1000\n",
    "gamma = 0.9"
   ]
  },
  {
   "cell_type": "code",
   "execution_count": 6,
   "id": "brief-orlando",
   "metadata": {},
   "outputs": [],
   "source": [
    "def run_trial(agent, intervention, trial_length):\n",
    "\n",
    "    mdp = gen_random_connected(GridworldMdp, height=8,width=8,num_rewards=4,noise=0)\n",
    "    env = Mdp(mdp)\n",
    "    agent.set_mdp(mdp)\n",
    "    intervention.set_mdp(mdp)\n",
    "    trajectory = []\n",
    "\n",
    "    for _ in range(trial_length):\n",
    "        curr_state = env.get_current_state()\n",
    "        agent_action = agent.get_action(curr_state)\n",
    "        action = intervention.get_action(curr_state,agent_action)\n",
    "        next_state, reward = env.perform_action(action)\n",
    "        minibatch = (curr_state, action, next_state, reward)\n",
    "        agent.inform_minibatch(*minibatch)\n",
    "        trajectory.append(minibatch)\n",
    "\n",
    "    reward = get_reward_from_trajectory(trajectory,gamma)\n",
    "    return reward"
   ]
  },
  {
   "cell_type": "code",
   "execution_count": 7,
   "id": "developed-given",
   "metadata": {},
   "outputs": [
    {
     "name": "stdout",
     "output_type": "stream",
     "text": [
      "10: 13.38\t15.07\t16.63\t17.47\t18.66\t18.73\t19.14\t19.99\t21.35\t21.08\t\n",
      "20: 20.83\t23.89\t26.07\t28.47\t29.33\t31.61\t32.41\t33.61\t35.24\t35.45\t\n",
      "30: 21.99\t27.71\t31.38\t32.57\t35.42\t36.53\t37.43\t38.51\t38.85\t39.57\t\n",
      "CPU times: user 14min 31s, sys: 2.93 s, total: 14min 34s\n",
      "Wall time: 14min 39s\n"
     ]
    }
   ],
   "source": [
    "%%time\n",
    "## Myopic Agent, Random Intervention\n",
    "for trial_length in [10,20,30]:\n",
    "    print(trial_length, end=': ')\n",
    "    for num_interventions in (np.arange(0,1,.1) * trial_length):\n",
    "        num_interventions = int(num_interventions)\n",
    "        results = []\n",
    "        for _ in range(num_trials):\n",
    "            agent = MyopicAgent(horizon=3)\n",
    "            intervention = RandomIntervention(trial_length=trial_length, num_interventions=num_interventions)\n",
    "            results.append(run_trial(agent,intervention, trial_length))\n",
    "        print(f'{np.mean(results):.2f}', end='\\t')\n",
    "    print()"
   ]
  },
  {
   "cell_type": "code",
   "execution_count": 11,
   "id": "renewable-durham",
   "metadata": {},
   "outputs": [],
   "source": [
    "myopic = np.array([[13.38,15.07,16.63,17.47,18.66,18.73,19.14,19.99,21.35,21.08],\n",
    "                   [20.83,23.89,26.07,28.47,29.33,31.61,32.41,33.61,35.24,35.45],\n",
    "                   [21.99,27.71,31.38,32.57,35.42,36.53,37.43,38.51,38.85,39.57]])"
   ]
  },
  {
   "cell_type": "code",
   "execution_count": 8,
   "id": "authorized-return",
   "metadata": {},
   "outputs": [
    {
     "name": "stdout",
     "output_type": "stream",
     "text": [
      "10: 21.57\t21.95\t21.53\t21.64\t21.60\t21.01\t21.47\t21.52\t21.69\t22.32\t\n",
      "20: 35.66\t35.11\t35.61\t35.39\t34.67\t35.22\t36.02\t34.73\t34.10\t34.32\t\n",
      "30: 39.08\t38.74\t40.70\t39.35\t39.25\t40.21\t40.01\t40.72\t39.09\t39.78\t\n",
      "CPU times: user 33min 16s, sys: 5.07 s, total: 33min 21s\n",
      "Wall time: 45min 1s\n"
     ]
    }
   ],
   "source": [
    "%%time\n",
    "## Overconfident Agent, Random Intervention\n",
    "for trial_length in [10,20,30]:\n",
    "    print(trial_length, end=': ')\n",
    "    for num_interventions in (np.arange(0,1,.1) * trial_length):\n",
    "        num_interventions = int(num_interventions)\n",
    "        results = []\n",
    "        for _ in range(num_trials):\n",
    "            agent = UncalibratedAgent(calibration_factor=5)\n",
    "            intervention = RandomIntervention(trial_length=trial_length, num_interventions=num_interventions)\n",
    "            results.append(run_trial(agent,intervention, trial_length))\n",
    "        print(f'{np.mean(results):.2f}', end='\\t')\n",
    "    print()"
   ]
  },
  {
   "cell_type": "code",
   "execution_count": 12,
   "id": "wrong-mainstream",
   "metadata": {},
   "outputs": [],
   "source": [
    "overconfident = np.array([[21.57,21.95,21.53,21.64,21.60,21.01,21.47,21.52,21.69,22.32],\n",
    "                          [35.66,35.11,35.61,35.39,34.67,35.22,36.02,34.73,34.10,34.32],\n",
    "                          [39.08,38.74,40.70,39.35,39.25,40.21,40.01,40.72,39.09,39.78]])"
   ]
  },
  {
   "cell_type": "code",
   "execution_count": 9,
   "id": "infectious-moral",
   "metadata": {},
   "outputs": [
    {
     "name": "stdout",
     "output_type": "stream",
     "text": [
      "10: 22.42\t22.82\t21.54\t21.67\t21.61\t22.12\t21.64\t21.95\t21.60\t21.78\t\n",
      "20: 35.63\t35.38\t35.26\t35.29\t35.50\t35.61\t35.01\t35.07\t35.52\t33.90\t\n",
      "30: 39.97\t40.60\t40.51\t40.57\t39.85\t38.83\t39.84\t40.73\t40.54\t39.43\t\n",
      "CPU times: user 34min 38s, sys: 8.41 s, total: 34min 47s\n",
      "Wall time: 1h 2min 24s\n"
     ]
    }
   ],
   "source": [
    "%%time\n",
    "## Underconfident Agent, Random Intervention\n",
    "for trial_length in [10,20,30]:\n",
    "    print(trial_length, end=': ')\n",
    "    for num_interventions in (np.arange(0,1,.1) * trial_length):\n",
    "        num_interventions = int(num_interventions)\n",
    "        results = []\n",
    "        for _ in range(num_trials):\n",
    "            agent = UncalibratedAgent(calibration_factor=0.2)\n",
    "            intervention = RandomIntervention(trial_length=trial_length, num_interventions=num_interventions)\n",
    "            results.append(run_trial(agent,intervention, trial_length))\n",
    "        print(f'{np.mean(results):.2f}', end='\\t')\n",
    "    print()"
   ]
  },
  {
   "cell_type": "code",
   "execution_count": 13,
   "id": "decreased-fruit",
   "metadata": {},
   "outputs": [],
   "source": [
    "underconfident = np.array([[22.42,22.82,21.54,21.67,21.61,22.12,21.64,21.95,21.60,21.78],\n",
    "                           [35.63,35.38,35.26,35.29,35.50,35.61,35.01,35.07,35.52,33.90],\n",
    "                           [39.97,40.60,40.51,40.57,39.85,38.83,39.84,40.73,40.54,39.43]])"
   ]
  },
  {
   "cell_type": "code",
   "execution_count": 10,
   "id": "focused-iraqi",
   "metadata": {},
   "outputs": [
    {
     "name": "stdout",
     "output_type": "stream",
     "text": [
      "10: 22.62\t22.32\t21.89\t21.63\t21.48\t22.09\t21.72\t21.95\t21.94\t21.36\t\n",
      "20: 34.67\t36.26\t35.91\t34.95\t34.71\t35.23\t35.25\t35.53\t35.77\t34.97\t\n",
      "30: 40.81\t39.20\t40.48\t39.78\t40.30\t40.32\t40.41\t40.18\t39.00\t39.51\t\n",
      "CPU times: user 19min 18s, sys: 2.64 s, total: 19min 20s\n",
      "Wall time: 19min 23s\n"
     ]
    }
   ],
   "source": [
    "%%time\n",
    "## Optimal Agent, Random Intervention\n",
    "for trial_length in [10,20,30]:\n",
    "    print(trial_length, end=': ')\n",
    "    for num_interventions in (np.arange(0,1,.1) * trial_length):\n",
    "        num_interventions = int(num_interventions)\n",
    "        results = []\n",
    "        for _ in range(num_trials):\n",
    "            agent = OptimalAgent()\n",
    "            intervention = RandomIntervention(trial_length=trial_length, num_interventions=num_interventions)\n",
    "            results.append(run_trial(agent,intervention, trial_length))\n",
    "        print(f'{np.mean(results):.2f}', end='\\t')\n",
    "    print()"
   ]
  },
  {
   "cell_type": "code",
   "execution_count": 14,
   "id": "planned-favor",
   "metadata": {},
   "outputs": [],
   "source": [
    "optimal = np.array([[22.62,22.32,21.89,21.63,21.48,22.09,21.72,21.95,21.94,21.36],\n",
    "                    [34.67,36.26,35.91,34.95,34.71,35.23,35.25,35.53,35.77,34.97],\n",
    "                    [40.81,39.20,40.48,39.78,40.30,40.32,40.41,40.18,39.00,39.51]])"
   ]
  },
  {
   "cell_type": "code",
   "execution_count": 24,
   "id": "duplicate-syracuse",
   "metadata": {},
   "outputs": [
    {
     "data": {
      "text/plain": [
       "array([[0.59151194, 0.67517921, 0.75970763, 0.80767453, 0.86871508, 0.84789498, 0.88121547, 0.91070615, 0.97310848, 0.98689139],\n",
       "       [0.60080761, 0.65885273, 0.72598162, 0.81459227, 0.84500144, 0.89724666, 0.91943262, 0.94596116, 0.98518311, 1.01372605],\n",
       "       [0.53883852, 0.70688776, 0.77519763, 0.81875314, 0.87890819, 0.90600198, 0.92625588, 0.95843703, 0.99615385, 1.0015186 ]])"
      ]
     },
     "execution_count": 24,
     "metadata": {},
     "output_type": "execute_result"
    }
   ],
   "source": [
    "myopic / optimal"
   ]
  },
  {
   "cell_type": "code",
   "execution_count": 25,
   "id": "aquatic-viking",
   "metadata": {},
   "outputs": [
    {
     "data": {
      "text/plain": [
       "array([[0.99115827, 1.02240143, 0.98401096, 1.00184928, 1.00605214, 1.00135808, 0.99631676, 1.        , 0.98450319, 1.01966292],\n",
       "       [1.02768965, 0.97573083, 0.98189919, 1.00972818, 1.02276001, 1.01078626, 0.99319149, 0.98705319, 0.9930109 , 0.96940234],\n",
       "       [0.97941681, 1.03571429, 1.00074111, 1.01985923, 0.98883375, 0.96304563, 0.98589458, 1.0136884 , 1.03948718, 0.9979752 ]])"
      ]
     },
     "execution_count": 25,
     "metadata": {},
     "output_type": "execute_result"
    }
   ],
   "source": [
    "underconfident / optimal"
   ]
  },
  {
   "cell_type": "code",
   "execution_count": 26,
   "id": "fitted-convert",
   "metadata": {},
   "outputs": [
    {
     "data": {
      "text/plain": [
       "array([[0.9535809 , 0.98342294, 0.98355413, 1.00046232, 1.00558659, 0.9511091 , 0.98848987, 0.98041002, 0.98860529, 1.04494382],\n",
       "       [1.02855495, 0.96828461, 0.99164578, 1.01258941, 0.99884759, 0.99971615, 1.02184397, 0.97748382, 0.95331283, 0.98141264],\n",
       "       [0.95760843, 0.98826531, 1.00543478, 0.98919055, 0.97394541, 0.99727183, 0.99010146, 1.01343952, 1.00230769, 1.00683371]])"
      ]
     },
     "execution_count": 26,
     "metadata": {},
     "output_type": "execute_result"
    }
   ],
   "source": [
    "overconfident / optimal"
   ]
  },
  {
   "cell_type": "code",
   "execution_count": null,
   "id": "reported-lloyd",
   "metadata": {},
   "outputs": [],
   "source": []
  }
 ],
 "metadata": {
  "interpreter": {
   "hash": "ed64e5a8ec65e8575703d495269facee7e989d76102892ef4c34bce8b4483af7"
  },
  "kernelspec": {
   "display_name": "Python 3",
   "language": "python",
   "name": "python3"
  },
  "language_info": {
   "codemirror_mode": {
    "name": "ipython",
    "version": 3
   },
   "file_extension": ".py",
   "mimetype": "text/x-python",
   "name": "python",
   "nbconvert_exporter": "python",
   "pygments_lexer": "ipython3",
   "version": "3.8.3"
  }
 },
 "nbformat": 4,
 "nbformat_minor": 5
}
