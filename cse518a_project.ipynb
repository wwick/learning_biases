{
 "cells": [
  {
   "cell_type": "code",
   "execution_count": 7,
   "metadata": {},
   "outputs": [],
   "source": [
    "from gridworld import GridworldMdp, Direction\n",
    "from agents import OptimalAgent"
   ]
  },
  {
   "cell_type": "code",
   "execution_count": 8,
   "id": "4c425bdc",
   "metadata": {},
   "outputs": [
    {
     "name": "stdout",
     "output_type": "stream",
     "text": [
      "{(-1, 0): 1.0}\n"
     ]
    }
   ],
   "source": [
    "grid = ['XXXXXXXXX',\n",
    "        'X9X6X   X',\n",
    "        'X X X XXX',\n",
    "        'X  A   2X',\n",
    "        'XXXXXXXXX']\n",
    "n, s, e, w, stay = Direction.ALL_DIRECTIONS\n",
    "\n",
    "agent = OptimalAgent(gamma=0.95, num_iters=20)\n",
    "mdp = GridworldMdp(grid, living_reward=-0.1)\n",
    "agent.set_mdp(mdp)\n",
    "start_state = mdp.get_start_state()\n",
    "\n",
    "# Action distribution\n",
    "action_dist = agent.get_action_distribution(start_state)\n",
    "\n",
    "print(action_dist)"
   ]
  }
 ],
 "metadata": {
  "interpreter": {
   "hash": "ed64e5a8ec65e8575703d495269facee7e989d76102892ef4c34bce8b4483af7"
  },
  "kernelspec": {
   "display_name": "Python 3.6.13 64-bit ('gridworld': conda)",
   "name": "python3"
  },
  "language_info": {
   "codemirror_mode": {
    "name": "ipython",
    "version": 3
   },
   "file_extension": ".py",
   "mimetype": "text/x-python",
   "name": "python",
   "nbconvert_exporter": "python",
   "pygments_lexer": "ipython3",
   "version": "3.6.13"
  }
 },
 "nbformat": 4,
 "nbformat_minor": 5
}
