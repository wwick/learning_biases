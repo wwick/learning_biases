{
 "cells": [
  {
   "cell_type": "code",
   "execution_count": 1,
   "id": "34ad1258",
   "metadata": {},
   "outputs": [],
   "source": [
    "%load_ext autoreload\n",
    "%autoreload 2"
   ]
  },
  {
   "cell_type": "code",
   "execution_count": 2,
   "id": "997a814c",
   "metadata": {},
   "outputs": [],
   "source": [
    "from gridworld import GridworldMdp\n",
    "from agents import OptimalAgent, MyopicAgent\n",
    "from fast_agents import FastMyopicAgent, FastOptimalAgent\n",
    "from mdp_interface import Mdp\n",
    "from agent_runner import get_reward_from_trajectory, run_agent\n",
    "import numpy as np\n",
    "from maia_chess_backend.maia.tfprocess import get_tfp\n",
    "import tensorflow as tf\n",
    "from multiprocessing import Pool\n",
    "import tqdm"
   ]
  },
  {
   "cell_type": "code",
   "execution_count": 3,
   "id": "03172d38",
   "metadata": {},
   "outputs": [],
   "source": [
    "np.set_printoptions(precision=5, linewidth=200)"
   ]
  },
  {
   "cell_type": "code",
   "execution_count": 4,
   "id": "6d5be8ff",
   "metadata": {},
   "outputs": [],
   "source": [
    "def gen_gridworld_arr(gridworld):\n",
    "    arr = np.zeros((3,width,height), dtype=np.int8)\n",
    "    arr[0] = np.array(gridworld.walls)\n",
    "    \n",
    "    for (x,y) in gridworld.rewards:\n",
    "        arr[1,x,y] = gridworld.rewards[(x,y)]\n",
    "        \n",
    "    (x,y) = gridworld.get_start_state()\n",
    "    arr[2,x,y] = 1\n",
    "    \n",
    "    return arr"
   ]
  },
  {
   "cell_type": "code",
   "execution_count": 5,
   "id": "c34c0dbb",
   "metadata": {},
   "outputs": [],
   "source": [
    "def gen_random_connected(height, width, num_rewards):\n",
    "    for _ in range(5):\n",
    "        try:\n",
    "            return GridworldMdp.generate_random_connected(height=height,width=width,num_rewards=num_rewards,noise=0)\n",
    "        except:\n",
    "            pass\n",
    "    raise ValueError('Could not generate Gridworld')"
   ]
  },
  {
   "cell_type": "code",
   "execution_count": 6,
   "id": "e11df1e8",
   "metadata": {
    "tags": []
   },
   "outputs": [],
   "source": [
    "height=6\n",
    "width=6\n",
    "num_rewards=4\n",
    "\n",
    "num_trials = 1\n",
    "gamma = 0.9\n",
    "\n",
    "num_start_states = 1\n",
    "episode_length = 5\n",
    "\n",
    "def gen_data(num_grids):\n",
    "    agent = FastMyopicAgent(horizon=2)\n",
    "    optimal_agent = FastMyopicAgent(horizon=episode_length)\n",
    "#     optimal_agent = OptimalAgent()\n",
    "    mdp_size = width * height * 2\n",
    "    data = np.zeros((num_grids,4,width,height))\n",
    "    trial = 0\n",
    "\n",
    "    # number of times when intervention actually made a difference\n",
    "    count = 0\n",
    "    total_actions = 0\n",
    "    diff_actions = 0\n",
    "    \n",
    "\n",
    "    for i in range(num_grids):\n",
    "#         print(f'IterI {i}', end='\\r')\n",
    "        gridworld = gen_random_connected(height, width, num_rewards)\n",
    "        mdp = Mdp(gridworld)\n",
    "        gridworld_arr = gen_gridworld_arr(gridworld)\n",
    "        # perform intervention with various episode lengths left\n",
    "\n",
    "        start_state = gridworld.get_random_start_state()\n",
    "        mdp.gridworld.start_state = start_state\n",
    "#             print(mdp.gridworld, end='\\n\\n')\n",
    "\n",
    "        agent.set_mdp(gridworld)\n",
    "        optimal_agent.set_mdp(gridworld)\n",
    "\n",
    "        agent_action = agent.get_action(start_state)\n",
    "        optimal_action = optimal_agent.get_action(start_state)\n",
    "\n",
    "        r1,r2 = 0.0,0.0\n",
    "\n",
    "        total_actions += 1\n",
    "        if agent_action != optimal_action:\n",
    "            diff_actions+=1\n",
    "\n",
    "            agent_trajectory = run_agent(agent,mdp,episode_length=episode_length)\n",
    "            r1 = get_reward_from_trajectory(agent_trajectory)\n",
    "            intervened_trajectory = run_agent(agent,mdp,episode_length=episode_length, first_optimal=optimal_agent)\n",
    "            r2 = get_reward_from_trajectory(intervened_trajectory)\n",
    "\n",
    "#                 for t1,t2 in zip(agent_trajectory, intervened_trajectory):\n",
    "#                     print(f'{t1}\\t|\\t{t2}')\n",
    "\n",
    "        data[i,:3] = gridworld_arr\n",
    "        data[i,3] = r2 - r1\n",
    "\n",
    "#     print()\n",
    "#     print(data.shape)\n",
    "#     print(f'Out of {total_actions} actions, {diff_actions} were different')\n",
    "    return data"
   ]
  },
  {
   "cell_type": "code",
   "execution_count": 7,
   "id": "240bb94c",
   "metadata": {},
   "outputs": [
    {
     "name": "stderr",
     "output_type": "stream",
     "text": [
      "100%|██████████| 1000/1000 [03:13<00:00,  5.17it/s]"
     ]
    },
    {
     "name": "stdout",
     "output_type": "stream",
     "text": [
      "CPU times: user 9.02 s, sys: 4.35 s, total: 13.4 s\n",
      "Wall time: 3min 13s\n"
     ]
    },
    {
     "name": "stderr",
     "output_type": "stream",
     "text": [
      "\n"
     ]
    }
   ],
   "source": [
    "%%time\n",
    "with Pool(32) as p:\n",
    "    n = 1000\n",
    "    myopic6x6 = list(tqdm.tqdm(p.imap(gen_data, [1000]*n), total=n))"
   ]
  },
  {
   "cell_type": "code",
   "execution_count": 8,
   "id": "4b787aa5",
   "metadata": {},
   "outputs": [
    {
     "data": {
      "text/plain": [
       "(1000000, 4, 6, 6)"
      ]
     },
     "execution_count": 8,
     "metadata": {},
     "output_type": "execute_result"
    }
   ],
   "source": [
    "myopic6x6 = np.concatenate(myopic6x6)\n",
    "np.save('/scratch1/fs1/chien-ju.ho/RIS/518/myopic6x6.npy', myopic6x6)\n",
    "myopic6x6.shape"
   ]
  },
  {
   "cell_type": "code",
   "execution_count": 9,
   "id": "3906f522",
   "metadata": {},
   "outputs": [
    {
     "data": {
      "text/plain": [
       "(1000000, 4, 6, 6)"
      ]
     },
     "execution_count": 9,
     "metadata": {},
     "output_type": "execute_result"
    }
   ],
   "source": [
    "myopic6x6 = np.load('/scratch1/fs1/chien-ju.ho/RIS/518/myopic6x6.npy')\n",
    "myopic6x6.shape"
   ]
  },
  {
   "cell_type": "code",
   "execution_count": null,
   "id": "f8930e73",
   "metadata": {},
   "outputs": [],
   "source": []
  },
  {
   "cell_type": "code",
   "execution_count": 10,
   "id": "2064454a",
   "metadata": {},
   "outputs": [
    {
     "data": {
      "text/plain": [
       "(1000000, 3, 6, 6)"
      ]
     },
     "execution_count": 10,
     "metadata": {},
     "output_type": "execute_result"
    }
   ],
   "source": [
    "x = myopic6x6[:,:3]\n",
    "x.shape"
   ]
  },
  {
   "cell_type": "code",
   "execution_count": 11,
   "id": "b415fe62",
   "metadata": {},
   "outputs": [
    {
     "data": {
      "text/plain": [
       "(1000000,)"
      ]
     },
     "execution_count": 11,
     "metadata": {},
     "output_type": "execute_result"
    }
   ],
   "source": [
    "y = myopic6x6[:,3,0,0]\n",
    "y.shape"
   ]
  },
  {
   "cell_type": "code",
   "execution_count": 12,
   "id": "373fdcb2",
   "metadata": {},
   "outputs": [],
   "source": [
    "y = (y>1).astype(int)"
   ]
  },
  {
   "cell_type": "code",
   "execution_count": 13,
   "id": "f1cdd3cb",
   "metadata": {},
   "outputs": [
    {
     "data": {
      "text/plain": [
       "0.306218"
      ]
     },
     "execution_count": 13,
     "metadata": {},
     "output_type": "execute_result"
    }
   ],
   "source": [
    "y.mean()"
   ]
  },
  {
   "cell_type": "code",
   "execution_count": 14,
   "id": "93e673cf",
   "metadata": {},
   "outputs": [
    {
     "name": "stdout",
     "output_type": "stream",
     "text": [
      "306218 693782\n",
      "153109 122487\n",
      "(153109, 3, 6, 6) (153109, 3, 6, 6)\n"
     ]
    },
    {
     "data": {
      "text/plain": [
       "((244974, 3, 6, 6), (244974,), (61244, 3, 6, 6), (61244,))"
      ]
     },
     "execution_count": 14,
     "metadata": {},
     "output_type": "execute_result"
    }
   ],
   "source": [
    "pos = (y==1)\n",
    "neg = (y==0)\n",
    "\n",
    "print(pos.sum(), neg.sum())\n",
    "\n",
    "n = int(min(pos.sum(), neg.sum()) * 0.5)\n",
    "div = int(n*0.8)\n",
    "\n",
    "print(n, div)\n",
    "\n",
    "xpos = x[pos][:n]\n",
    "xneg = x[neg][:n]\n",
    "ypos = y[pos][:n]\n",
    "yneg = y[neg][:n]\n",
    "\n",
    "print(xpos.shape, xneg.shape)\n",
    "\n",
    "xtrain = np.concatenate([xpos[:div],xneg[:div]])\n",
    "ytrain = np.concatenate([ypos[:div],yneg[:div]])\n",
    "\n",
    "\n",
    "xeval = np.concatenate([xpos[div:n],xneg[div:n]])\n",
    "yeval = np.concatenate([ypos[div:n],yneg[div:n]])\n",
    "\n",
    "xtrain.shape, ytrain.shape, xeval.shape, yeval.shape"
   ]
  },
  {
   "cell_type": "code",
   "execution_count": null,
   "id": "24eb7609",
   "metadata": {},
   "outputs": [],
   "source": []
  },
  {
   "cell_type": "code",
   "execution_count": null,
   "id": "abf07f13",
   "metadata": {},
   "outputs": [],
   "source": []
  },
  {
   "cell_type": "code",
   "execution_count": 15,
   "id": "d8c8d194",
   "metadata": {},
   "outputs": [],
   "source": [
    "tfp = get_tfp(filters=64, blocks=6, regularizer=False, input_size=3, board_size=6, output_size=1)\n",
    "\n",
    "optimizer = tfp.optimizer\n",
    "loss = tf.keras.losses.BinaryCrossentropy(from_logits=False)\n",
    "metrics = ['accuracy',tf.keras.metrics.Precision(),tf.keras.metrics.Recall(),tf.keras.metrics.AUC()]\n",
    "# metrics = ['accuracy']\n",
    "\n",
    "tfp.model.compile(optimizer, loss, metrics)"
   ]
  },
  {
   "cell_type": "code",
   "execution_count": 16,
   "id": "662bfdae",
   "metadata": {},
   "outputs": [
    {
     "name": "stdout",
     "output_type": "stream",
     "text": [
      "7656/7656 [==============================] - 234s 29ms/step - loss: 0.6649 - accuracy: 0.5733 - precision: 0.5576 - recall: 0.7142 - auc: 0.6016\n",
      "1914/1914 [==============================] - 21s 10ms/step - loss: 0.6548 - accuracy: 0.5783 - precision: 0.5772 - recall: 0.5856 - auc: 0.6189\n"
     ]
    },
    {
     "data": {
      "text/plain": [
       "[0.6547573208808899,\n",
       " 0.5782933831214905,\n",
       " 0.5771669745445251,\n",
       " 0.5855920314788818,\n",
       " 0.6188567280769348]"
      ]
     },
     "execution_count": 16,
     "metadata": {},
     "output_type": "execute_result"
    }
   ],
   "source": [
    "## First experiment\n",
    "tfp.model.fit(xtrain,ytrain)\n",
    "tfp.model.evaluate(xeval,yeval)"
   ]
  },
  {
   "cell_type": "code",
   "execution_count": null,
   "id": "e6dd3635",
   "metadata": {},
   "outputs": [],
   "source": []
  },
  {
   "cell_type": "code",
   "execution_count": null,
   "id": "cea4ebb8",
   "metadata": {},
   "outputs": [],
   "source": []
  },
  {
   "cell_type": "code",
   "execution_count": null,
   "id": "37323979",
   "metadata": {},
   "outputs": [],
   "source": []
  }
 ],
 "metadata": {
  "interpreter": {
   "hash": "ed64e5a8ec65e8575703d495269facee7e989d76102892ef4c34bce8b4483af7"
  },
  "kernelspec": {
   "display_name": "base",
   "language": "python",
   "name": "base"
  },
  "language_info": {
   "codemirror_mode": {
    "name": "ipython",
    "version": 3
   },
   "file_extension": ".py",
   "mimetype": "text/x-python",
   "name": "python",
   "nbconvert_exporter": "python",
   "pygments_lexer": "ipython3",
   "version": "3.8.3"
  }
 },
 "nbformat": 4,
 "nbformat_minor": 5
}
