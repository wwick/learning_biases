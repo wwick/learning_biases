{
 "cells": [
  {
   "cell_type": "code",
   "execution_count": null,
   "id": "4a66fee3",
   "metadata": {},
   "outputs": [],
   "source": []
  },
  {
   "cell_type": "code",
   "execution_count": 1,
   "id": "cfe18005",
   "metadata": {},
   "outputs": [],
   "source": [
    "from gridworld import GridworldMdp\n",
    "from agents import OptimalAgent, MyopicAgent, UncalibratedAgent\n",
    "from mdp_interface import Mdp\n",
    "from agent_runner import get_reward_from_trajectory, run_agent\n",
    "import numpy as np"
   ]
  },
  {
   "cell_type": "code",
   "execution_count": null,
   "id": "e234d529",
   "metadata": {},
   "outputs": [],
   "source": [
    "class Intervention:\n",
    "\n",
    "    def __init__(self,trial_length=10,num_interventions=3,gamma=0.9):\n",
    "        self.steps_left = trial_length\n",
    "        self.interventions_left = num_interventions\n",
    "        self.optimal_agent = OptimalAgent(gamma=gamma)\n",
    "\n",
    "    def set_mdp(self,mdp):\n",
    "        self.optimal_agent.set_mdp(mdp)\n",
    "\n",
    "    def get_optimal_action(self,state):\n",
    "        return self.optimal_agent.get_action(state)\n",
    "\n",
    "    def will_intervene(self,state,agent):\n",
    "        raise NotImplemented(\"Cannot call will_intervene for Intervention\")\n",
    "\n",
    "    def get_action(self,state,agent):\n",
    "        if self.will_intervene(state,agent):\n",
    "            self.interventions_left -= 1\n",
    "            self.steps_left -= 1\n",
    "            return self.get_optimal_action(state)\n",
    "        self.steps_left -= 1\n",
    "        return agent.get_action(state)"
   ]
  },
  {
   "cell_type": "code",
   "execution_count": null,
   "id": "04a972e7",
   "metadata": {},
   "outputs": [],
   "source": [
    "class RandomIntervention(Intervention):\n",
    "    def will_intervene(self, state, agent):\n",
    "        prob = self.interventions_left / self.steps_left\n",
    "        return np.random.rand() < prob"
   ]
  },
  {
   "cell_type": "code",
   "execution_count": null,
   "id": "e07806e7",
   "metadata": {},
   "outputs": [],
   "source": [
    "class StrategicIntervention(Intervention):\n",
    "    def __init__(self, trial_length=10, num_interventions=3, gamma=0.9, qval_threshold=2):\n",
    "        super().__init__(trial_length=trial_length, num_interventions=num_interventions, gamma=gamma)\n",
    "        self.qval_threshold = qval_threshold\n",
    "\n",
    "    def will_intervene(self, state, agent):\n",
    "        agent_action = agent.get_action()\n",
    "        optimal_action = self.get_optimal_action()\n",
    "        mu = self.optimal_agent.extend_state_to_mu(state)\n",
    "        agent_qval = self.optimal_agent.qvalue(mu,agent_action)\n",
    "        optimal_qval = self.optimal_agent.qvalue(mu,optimal_action)\n",
    "        return optimal_qval - agent_qval > self.qval_threshold"
   ]
  },
  {
   "cell_type": "code",
   "execution_count": null,
   "id": "9ede33f9",
   "metadata": {},
   "outputs": [],
   "source": [
    "def run_trial(agent, intervention, trial_length):\n",
    "\n",
    "    mdp = gen_random_connected()\n",
    "    env = Mdp(mdp)\n",
    "    agent.set_mdp(mdp)\n",
    "    intervention.set_mdp(mdp)\n",
    "    trajectory = []\n",
    "\n",
    "    for _ in range(trial_length):\n",
    "        curr_state = env.get_current_state()\n",
    "        action = intervention.get_action(curr_state,agent)\n",
    "        next_state, reward = env.perform_action(action)\n",
    "        minibatch = (curr_state, action, next_state, reward)\n",
    "        agent.inform_minibatch(*minibatch)\n",
    "        trajectory.append(minibatch)\n",
    "\n",
    "    reward = get_reward_from_trajectory(trajectory,gamma)\n",
    "    return reward"
   ]
  }
 ],
 "metadata": {
  "kernelspec": {
   "display_name": "base",
   "language": "python",
   "name": "base"
  },
  "language_info": {
   "codemirror_mode": {
    "name": "ipython",
    "version": 3
   },
   "file_extension": ".py",
   "mimetype": "text/x-python",
   "name": "python",
   "nbconvert_exporter": "python",
   "pygments_lexer": "ipython3",
   "version": "3.8.3"
  }
 },
 "nbformat": 4,
 "nbformat_minor": 5
}
