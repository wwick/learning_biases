{
 "cells": [
  {
   "cell_type": "code",
   "execution_count": 1,
   "id": "0383bb61",
   "metadata": {},
   "outputs": [],
   "source": [
    "%load_ext autoreload\n",
    "%autoreload 2"
   ]
  },
  {
   "cell_type": "code",
   "execution_count": 2,
   "id": "19b19792",
   "metadata": {},
   "outputs": [],
   "source": [
    "from gridworld import GridworldMdp\n",
    "from agents import OptimalAgent, MyopicAgent\n",
    "from fast_agents import FastMyopicAgent, FastOptimalAgent\n",
    "from mdp_interface import Mdp\n",
    "from agent_runner import run_agent, get_reward_from_trajectory\n",
    "import numpy as np\n",
    "from multiprocessing import Pool\n",
    "import tqdm\n",
    "from maia_chess_backend.maia.tfprocess import get_tfp\n",
    "import tensorflow as tf"
   ]
  },
  {
   "cell_type": "code",
   "execution_count": 3,
   "id": "615b12ff",
   "metadata": {},
   "outputs": [],
   "source": [
    "np.set_printoptions(precision=5, linewidth=200)"
   ]
  },
  {
   "cell_type": "code",
   "execution_count": 4,
   "id": "1d036e03",
   "metadata": {},
   "outputs": [],
   "source": [
    "def gen_gridworld_arr(gridworld):\n",
    "    arr = np.zeros((3,width,height), dtype=np.int8)\n",
    "    arr[0] = np.array(gridworld.walls)\n",
    "    \n",
    "    for (x,y) in gridworld.rewards:\n",
    "        arr[1,x,y] = gridworld.rewards[(x,y)]\n",
    "        \n",
    "    (x,y) = gridworld.get_start_state()\n",
    "    arr[2,x,y] = 1\n",
    "    \n",
    "    return arr"
   ]
  },
  {
   "cell_type": "code",
   "execution_count": 5,
   "id": "4e6330e6",
   "metadata": {},
   "outputs": [],
   "source": [
    "def gen_random_connected(height, width, num_rewards):\n",
    "    for _ in range(5):\n",
    "        try:\n",
    "            return GridworldMdp.generate_random_connected(height=height,width=width,num_rewards=num_rewards,noise=0)\n",
    "        except:\n",
    "            pass\n",
    "    raise ValueError('Could not generate Gridworld')"
   ]
  },
  {
   "cell_type": "code",
   "execution_count": 6,
   "id": "0106413f",
   "metadata": {
    "tags": []
   },
   "outputs": [],
   "source": [
    "height=6\n",
    "width=6\n",
    "num_rewards=4\n",
    "\n",
    "gamma = 0.9\n",
    "myopic_horizon = 2\n",
    "\n",
    "episode_length = 5\n",
    "cost = 1\n",
    "\n",
    "def gen_data(num_grids):\n",
    "\n",
    "    data = np.zeros((num_grids,4, height,width))\n",
    "    trial = 0\n",
    "\n",
    "    for i in range(num_grids):\n",
    "#         print(f'Iter {i}', end='\\r')\n",
    "        gridworld = gen_random_connected(height, width, num_rewards)\n",
    "        mdp = Mdp(gridworld)\n",
    "        gridworld_arr = gen_gridworld_arr(gridworld)\n",
    "        start_state = gridworld.get_start_state()\n",
    "        mdp.gridworld.start_state = start_state\n",
    "        \n",
    "        \n",
    "        dummy_agent = FastMyopicAgent(horizon=episode_length)\n",
    "        dummy_agent.set_mdp(gridworld)\n",
    "        \n",
    "        def recurse(agent_list, moves_left):\n",
    "            if moves_left == 0: return [agent_list]\n",
    "\n",
    "            myopic_agent = FastMyopicAgent(horizon=min(moves_left, myopic_horizon))\n",
    "            optimal_agent = FastMyopicAgent(horizon=moves_left)\n",
    "\n",
    "            l1 = recurse(agent_list+[(0,myopic_agent)], moves_left-1)\n",
    "            l2 = recurse(agent_list+[(1,optimal_agent)], moves_left-1)\n",
    "\n",
    "            return l1+l2\n",
    "        \n",
    "        \n",
    "        agent_lists = recurse([], episode_length)\n",
    "        #print([[i[0] for i in agent_list] for agent_list in agent_lists])\n",
    "        rewards = []\n",
    "        \n",
    "        for agent_list in agent_lists:\n",
    "            num_ints = sum([j[0] for j in agent_list])\n",
    "            agent_list = [j[1] for j in agent_list]\n",
    "            trajectory = run_agent(dummy_agent, mdp, episode_length=episode_length, agent_list=agent_list)\n",
    "            rewards.append(get_reward_from_trajectory(trajectory) - num_ints*cost)\n",
    "#         print(rewards)\n",
    "        idx = np.array(rewards).argmax()\n",
    "#         print(i)\n",
    "#         print(agent_lists[i][0][0])\n",
    "\n",
    "        data[i,:3] = gridworld_arr\n",
    "        data[i,3] = agent_lists[idx][0][0]\n",
    "    return data"
   ]
  },
  {
   "cell_type": "code",
   "execution_count": 7,
   "id": "323455a3",
   "metadata": {},
   "outputs": [
    {
     "name": "stderr",
     "output_type": "stream",
     "text": [
      "100%|██████████| 4000/4000 [00:29<00:00, 136.60it/s]\n"
     ]
    },
    {
     "name": "stdout",
     "output_type": "stream",
     "text": [
      "CPU times: user 1.74 s, sys: 1.16 s, total: 2.89 s\n",
      "Wall time: 29.6 s\n"
     ]
    }
   ],
   "source": [
    "%%time\n",
    "with Pool(32) as p:\n",
    "#     experiment2 = p.map(gen_data, [1]*1000)\n",
    "    n = 4000\n",
    "    experiment2_big = list(tqdm.tqdm(p.imap(gen_data, [1]*n), total=n))"
   ]
  },
  {
   "cell_type": "code",
   "execution_count": null,
   "id": "740851eb",
   "metadata": {},
   "outputs": [],
   "source": [
    "experiment2 = np.concatenate(experiment2)\n",
    "experiment2.shape"
   ]
  },
  {
   "cell_type": "code",
   "execution_count": null,
   "id": "c32978aa",
   "metadata": {},
   "outputs": [],
   "source": []
  },
  {
   "cell_type": "code",
   "execution_count": null,
   "id": "082a254e",
   "metadata": {},
   "outputs": [],
   "source": []
  },
  {
   "cell_type": "code",
   "execution_count": 13,
   "id": "c0689a59",
   "metadata": {},
   "outputs": [],
   "source": [
    "tfp = get_tfp(filters=64, blocks=6, regularizer=False, input_size=3, board_size=6, output_size=1)\n",
    "\n",
    "optimizer = tfp.optimizer\n",
    "loss = tf.keras.losses.BinaryCrossentropy(from_logits=False)\n",
    "metrics = ['accuracy',tf.keras.metrics.Precision(),tf.keras.metrics.Recall(),tf.keras.metrics.AUC()]\n",
    "# metrics = ['accuracy']\n",
    "\n",
    "tfp.model.compile(optimizer, loss, metrics)"
   ]
  },
  {
   "cell_type": "code",
   "execution_count": 14,
   "id": "b9324a06",
   "metadata": {},
   "outputs": [
    {
     "name": "stdout",
     "output_type": "stream",
     "text": [
      "12283/12283 [==============================] - 328s 26ms/step - loss: 0.1577 - accuracy: 0.9358 - precision: 0.9258 - recall: 0.9488 - auc: 0.9802\n",
      "3071/3071 [==============================] - 41s 13ms/step - loss: 0.0500 - accuracy: 0.9795 - precision: 0.9772 - recall: 0.9820 - auc: 0.9984\n"
     ]
    },
    {
     "data": {
      "text/plain": [
       "[0.05002376809716225,\n",
       " 0.9795440435409546,\n",
       " 0.9772322177886963,\n",
       " 0.9819661974906921,\n",
       " 0.9984188675880432]"
      ]
     },
     "execution_count": 14,
     "metadata": {},
     "output_type": "execute_result"
    }
   ],
   "source": [
    "## Second experiment\n",
    "tfp.model.fit(xtrain,ytrain)\n",
    "tfp.model.evaluate(xeval,yeval)"
   ]
  },
  {
   "cell_type": "code",
   "execution_count": null,
   "id": "22773cd3",
   "metadata": {},
   "outputs": [],
   "source": []
  },
  {
   "cell_type": "code",
   "execution_count": null,
   "id": "367cece6",
   "metadata": {},
   "outputs": [],
   "source": []
  },
  {
   "cell_type": "code",
   "execution_count": null,
   "id": "f022b1e7",
   "metadata": {},
   "outputs": [],
   "source": []
  },
  {
   "cell_type": "code",
   "execution_count": null,
   "id": "3d33f4b6",
   "metadata": {},
   "outputs": [],
   "source": []
  },
  {
   "cell_type": "code",
   "execution_count": null,
   "id": "6f2b824c",
   "metadata": {},
   "outputs": [],
   "source": []
  },
  {
   "cell_type": "code",
   "execution_count": null,
   "id": "bb2f5772",
   "metadata": {},
   "outputs": [],
   "source": []
  },
  {
   "cell_type": "code",
   "execution_count": null,
   "id": "c8e9c438",
   "metadata": {},
   "outputs": [],
   "source": []
  },
  {
   "cell_type": "code",
   "execution_count": 14,
   "id": "14792353",
   "metadata": {},
   "outputs": [],
   "source": [
    "def istarmap(self, func, iterable, chunksize=1):\n",
    "    \"\"\"starmap-version of imap\n",
    "    \"\"\"\n",
    "    self._check_running()\n",
    "    if chunksize < 1:\n",
    "        raise ValueError(\n",
    "            \"Chunksize must be 1+, not {0:n}\".format(\n",
    "                chunksize))\n",
    "\n",
    "    task_batches = mpp.Pool._get_tasks(func, iterable, chunksize)\n",
    "    result = mpp.IMapIterator(self)\n",
    "    self._taskqueue.put(\n",
    "        (\n",
    "            self._guarded_task_generation(result._job,\n",
    "                                          mpp.starmapstar,\n",
    "                                          task_batches),\n",
    "            result._set_length\n",
    "        ))\n",
    "    return (item for chunk in result for item in chunk)"
   ]
  },
  {
   "cell_type": "code",
   "execution_count": 17,
   "id": "a66d9dc7",
   "metadata": {},
   "outputs": [],
   "source": [
    "from gridworld import GridworldMdp\n",
    "from agents import OptimalAgent, MyopicAgent\n",
    "from fast_agents import FastMyopicAgent, FastOptimalAgent\n",
    "from mdp_interface import Mdp\n",
    "from agent_runner import get_reward_from_trajectory, run_agent\n",
    "import numpy as np\n",
    "from maia_chess_backend.maia.tfprocess import get_tfp\n",
    "import tensorflow as tf\n",
    "from multiprocessing import Pool\n",
    "import tqdm\n",
    "import sys\n",
    "\n",
    "def gen_gridworld_arr(gridworld, width):\n",
    "    arr = np.zeros((3,width,width), dtype=np.int8)\n",
    "    arr[0] = np.array(gridworld.walls)\n",
    "    \n",
    "    for (x,y) in gridworld.rewards:\n",
    "        arr[1,x,y] = gridworld.rewards[(x,y)]\n",
    "        \n",
    "    (x,y) = gridworld.get_start_state()\n",
    "    arr[2,x,y] = 1\n",
    "    \n",
    "    return arr\n",
    "\n",
    "def gen_random_connected(width, height, num_rewards):\n",
    "    for _ in range(1000):\n",
    "        try:\n",
    "            return GridworldMdp.generate_random_connected(width=width,height=height,num_rewards=num_rewards,noise=0)\n",
    "        except:\n",
    "            pass\n",
    "    raise ValueError('Could not generate Gridworld')\n",
    "    \n",
    "\n",
    "def gen_data(num_grids, width, num_rewards, episode_length, myopic_horizon, cost):\n",
    "    data = np.zeros((num_grids,4,width,width))\n",
    "    for i in range(num_grids):\n",
    "        gridworld = gen_random_connected(width, width, num_rewards)\n",
    "        mdp = Mdp(gridworld)\n",
    "        start_state = gridworld.get_start_state()\n",
    "        mdp.gridworld.start_state = start_state\n",
    "        dummy_agent = FastMyopicAgent(horizon=episode_length)\n",
    "        dummy_agent.set_mdp(gridworld)\n",
    "        def recurse(agent_list, moves_left):\n",
    "            if moves_left == 0: return [agent_list]\n",
    "            myopic_agent = FastMyopicAgent(horizon=min(moves_left, myopic_horizon))\n",
    "            optimal_agent = FastMyopicAgent(horizon=moves_left)\n",
    "            l1 = recurse(agent_list+[(0,myopic_agent)], moves_left-1)\n",
    "            l2 = recurse(agent_list+[(1,optimal_agent)], moves_left-1)\n",
    "            return l1+l2\n",
    "        agent_lists = recurse([], episode_length)\n",
    "        rewards = []\n",
    "        for agent_list in agent_lists:\n",
    "            num_ints = sum([j[0] for j in agent_list])\n",
    "            agent_list = [j[1] for j in agent_list]\n",
    "            trajectory = run_agent(dummy_agent, mdp, episode_length=episode_length, agent_list=agent_list)\n",
    "            rewards.append(get_reward_from_trajectory(trajectory) - num_ints*cost)\n",
    "        idx = np.array(rewards).argmax()\n",
    "        data[i,:3] = gen_gridworld_arr(gridworld, width)\n",
    "        data[i,3] = agent_lists[idx][0][0]\n",
    "    return data\n",
    "\n",
    "\n",
    "def get_all_data(width, num_rewards, episode_length, myopic_horizon):\n",
    "    for cost in [0]:\n",
    "        pos,neg = 0,0\n",
    "        data = np.zeros((0,4,width,width))\n",
    "        while pos < 120000 or neg < 120000:\n",
    "            \n",
    "#             with Pool(4) as pool:\n",
    "#                 iterable = [(i, 'x') for i in range(10)]\n",
    "#                 for _ in tqdm.tqdm(pool.istarmap(foo, iterable),total=len(iterable)):\n",
    "#                     pass\n",
    "\n",
    "            with Pool(8) as p:\n",
    "                n = 100\n",
    "                inputs = [[100,width,num_rewards,episode_length,myopic_horizon, cost]]*n\n",
    "                run_data = p.starmap(gen_data, tqdm.tqdm(inputs, total=n))\n",
    "#                 print(run_data)\n",
    "                print(run_data[0])\n",
    "                print(run_data[0][0])\n",
    "                print(run_data[0][1])\n",
    "#                 run_data = np.concatenate(run_data)\n",
    "#                 data = np.concatenate((data, run_data))\n",
    "#                 y = data[:,3,0,0]\n",
    "#                 pos = (y==1).sum()\n",
    "#                 neg = (y==0).sum()\n",
    "#                 print(pos, neg)\n",
    "#         x = data[:,:3]\n",
    "#         y = data[:,3,0,0]"
   ]
  },
  {
   "cell_type": "code",
   "execution_count": 18,
   "id": "f3c12631",
   "metadata": {},
   "outputs": [
    {
     "name": "stderr",
     "output_type": "stream",
     "text": [
      "100%|██████████| 100/100 [00:00<00:00, 85878.46it/s]\n"
     ]
    },
    {
     "ename": "KeyboardInterrupt",
     "evalue": "",
     "output_type": "error",
     "traceback": [
      "\u001b[0;31m---------------------------------------------------------------------------\u001b[0m",
      "\u001b[0;31mKeyboardInterrupt\u001b[0m                         Traceback (most recent call last)",
      "\u001b[0;32m<ipython-input-18-9fe27c33ed42>\u001b[0m in \u001b[0;36m<module>\u001b[0;34m\u001b[0m\n\u001b[0;32m----> 1\u001b[0;31m \u001b[0mget_all_data\u001b[0m\u001b[0;34m(\u001b[0m\u001b[0;36m6\u001b[0m\u001b[0;34m,\u001b[0m\u001b[0;36m5\u001b[0m\u001b[0;34m,\u001b[0m\u001b[0;36m6\u001b[0m\u001b[0;34m,\u001b[0m\u001b[0;36m2\u001b[0m\u001b[0;34m)\u001b[0m\u001b[0;34m\u001b[0m\u001b[0;34m\u001b[0m\u001b[0m\n\u001b[0m",
      "\u001b[0;32m<ipython-input-17-520688a543a9>\u001b[0m in \u001b[0;36mget_all_data\u001b[0;34m(width, num_rewards, episode_length, myopic_horizon)\u001b[0m\n\u001b[1;32m     75\u001b[0m                 \u001b[0mn\u001b[0m \u001b[0;34m=\u001b[0m \u001b[0;36m100\u001b[0m\u001b[0;34m\u001b[0m\u001b[0;34m\u001b[0m\u001b[0m\n\u001b[1;32m     76\u001b[0m                 \u001b[0minputs\u001b[0m \u001b[0;34m=\u001b[0m \u001b[0;34m[\u001b[0m\u001b[0;34m[\u001b[0m\u001b[0;36m100\u001b[0m\u001b[0;34m,\u001b[0m\u001b[0mwidth\u001b[0m\u001b[0;34m,\u001b[0m\u001b[0mnum_rewards\u001b[0m\u001b[0;34m,\u001b[0m\u001b[0mepisode_length\u001b[0m\u001b[0;34m,\u001b[0m\u001b[0mmyopic_horizon\u001b[0m\u001b[0;34m,\u001b[0m \u001b[0mcost\u001b[0m\u001b[0;34m]\u001b[0m\u001b[0;34m]\u001b[0m\u001b[0;34m*\u001b[0m\u001b[0mn\u001b[0m\u001b[0;34m\u001b[0m\u001b[0;34m\u001b[0m\u001b[0m\n\u001b[0;32m---> 77\u001b[0;31m                 \u001b[0mrun_data\u001b[0m \u001b[0;34m=\u001b[0m \u001b[0mp\u001b[0m\u001b[0;34m.\u001b[0m\u001b[0mstarmap\u001b[0m\u001b[0;34m(\u001b[0m\u001b[0mgen_data\u001b[0m\u001b[0;34m,\u001b[0m \u001b[0mtqdm\u001b[0m\u001b[0;34m.\u001b[0m\u001b[0mtqdm\u001b[0m\u001b[0;34m(\u001b[0m\u001b[0minputs\u001b[0m\u001b[0;34m,\u001b[0m \u001b[0mtotal\u001b[0m\u001b[0;34m=\u001b[0m\u001b[0mn\u001b[0m\u001b[0;34m)\u001b[0m\u001b[0;34m)\u001b[0m\u001b[0;34m\u001b[0m\u001b[0;34m\u001b[0m\u001b[0m\n\u001b[0m\u001b[1;32m     78\u001b[0m                 \u001b[0mrun_data\u001b[0m \u001b[0;34m=\u001b[0m \u001b[0mnp\u001b[0m\u001b[0;34m.\u001b[0m\u001b[0mconcatenate\u001b[0m\u001b[0;34m(\u001b[0m\u001b[0mrun_data\u001b[0m\u001b[0;34m)\u001b[0m\u001b[0;34m\u001b[0m\u001b[0;34m\u001b[0m\u001b[0m\n\u001b[1;32m     79\u001b[0m                 \u001b[0mdata\u001b[0m \u001b[0;34m=\u001b[0m \u001b[0mnp\u001b[0m\u001b[0;34m.\u001b[0m\u001b[0mconcatenate\u001b[0m\u001b[0;34m(\u001b[0m\u001b[0;34m(\u001b[0m\u001b[0mdata\u001b[0m\u001b[0;34m,\u001b[0m \u001b[0mrun_data\u001b[0m\u001b[0;34m)\u001b[0m\u001b[0;34m)\u001b[0m\u001b[0;34m\u001b[0m\u001b[0;34m\u001b[0m\u001b[0m\n",
      "\u001b[0;32m/opt/conda/lib/python3.8/multiprocessing/pool.py\u001b[0m in \u001b[0;36mstarmap\u001b[0;34m(self, func, iterable, chunksize)\u001b[0m\n\u001b[1;32m    370\u001b[0m         \u001b[0;31m`\u001b[0m\u001b[0mfunc\u001b[0m\u001b[0;31m`\u001b[0m \u001b[0;32mand\u001b[0m \u001b[0;34m(\u001b[0m\u001b[0ma\u001b[0m\u001b[0;34m,\u001b[0m \u001b[0mb\u001b[0m\u001b[0;34m)\u001b[0m \u001b[0mbecomes\u001b[0m \u001b[0mfunc\u001b[0m\u001b[0;34m(\u001b[0m\u001b[0ma\u001b[0m\u001b[0;34m,\u001b[0m \u001b[0mb\u001b[0m\u001b[0;34m)\u001b[0m\u001b[0;34m.\u001b[0m\u001b[0;34m\u001b[0m\u001b[0;34m\u001b[0m\u001b[0m\n\u001b[1;32m    371\u001b[0m         '''\n\u001b[0;32m--> 372\u001b[0;31m         \u001b[0;32mreturn\u001b[0m \u001b[0mself\u001b[0m\u001b[0;34m.\u001b[0m\u001b[0m_map_async\u001b[0m\u001b[0;34m(\u001b[0m\u001b[0mfunc\u001b[0m\u001b[0;34m,\u001b[0m \u001b[0miterable\u001b[0m\u001b[0;34m,\u001b[0m \u001b[0mstarmapstar\u001b[0m\u001b[0;34m,\u001b[0m \u001b[0mchunksize\u001b[0m\u001b[0;34m)\u001b[0m\u001b[0;34m.\u001b[0m\u001b[0mget\u001b[0m\u001b[0;34m(\u001b[0m\u001b[0;34m)\u001b[0m\u001b[0;34m\u001b[0m\u001b[0;34m\u001b[0m\u001b[0m\n\u001b[0m\u001b[1;32m    373\u001b[0m \u001b[0;34m\u001b[0m\u001b[0m\n\u001b[1;32m    374\u001b[0m     def starmap_async(self, func, iterable, chunksize=None, callback=None,\n",
      "\u001b[0;32m/opt/conda/lib/python3.8/multiprocessing/pool.py\u001b[0m in \u001b[0;36mget\u001b[0;34m(self, timeout)\u001b[0m\n\u001b[1;32m    763\u001b[0m \u001b[0;34m\u001b[0m\u001b[0m\n\u001b[1;32m    764\u001b[0m     \u001b[0;32mdef\u001b[0m \u001b[0mget\u001b[0m\u001b[0;34m(\u001b[0m\u001b[0mself\u001b[0m\u001b[0;34m,\u001b[0m \u001b[0mtimeout\u001b[0m\u001b[0;34m=\u001b[0m\u001b[0;32mNone\u001b[0m\u001b[0;34m)\u001b[0m\u001b[0;34m:\u001b[0m\u001b[0;34m\u001b[0m\u001b[0;34m\u001b[0m\u001b[0m\n\u001b[0;32m--> 765\u001b[0;31m         \u001b[0mself\u001b[0m\u001b[0;34m.\u001b[0m\u001b[0mwait\u001b[0m\u001b[0;34m(\u001b[0m\u001b[0mtimeout\u001b[0m\u001b[0;34m)\u001b[0m\u001b[0;34m\u001b[0m\u001b[0;34m\u001b[0m\u001b[0m\n\u001b[0m\u001b[1;32m    766\u001b[0m         \u001b[0;32mif\u001b[0m \u001b[0;32mnot\u001b[0m \u001b[0mself\u001b[0m\u001b[0;34m.\u001b[0m\u001b[0mready\u001b[0m\u001b[0;34m(\u001b[0m\u001b[0;34m)\u001b[0m\u001b[0;34m:\u001b[0m\u001b[0;34m\u001b[0m\u001b[0;34m\u001b[0m\u001b[0m\n\u001b[1;32m    767\u001b[0m             \u001b[0;32mraise\u001b[0m \u001b[0mTimeoutError\u001b[0m\u001b[0;34m\u001b[0m\u001b[0;34m\u001b[0m\u001b[0m\n",
      "\u001b[0;32m/opt/conda/lib/python3.8/multiprocessing/pool.py\u001b[0m in \u001b[0;36mwait\u001b[0;34m(self, timeout)\u001b[0m\n\u001b[1;32m    760\u001b[0m \u001b[0;34m\u001b[0m\u001b[0m\n\u001b[1;32m    761\u001b[0m     \u001b[0;32mdef\u001b[0m \u001b[0mwait\u001b[0m\u001b[0;34m(\u001b[0m\u001b[0mself\u001b[0m\u001b[0;34m,\u001b[0m \u001b[0mtimeout\u001b[0m\u001b[0;34m=\u001b[0m\u001b[0;32mNone\u001b[0m\u001b[0;34m)\u001b[0m\u001b[0;34m:\u001b[0m\u001b[0;34m\u001b[0m\u001b[0;34m\u001b[0m\u001b[0m\n\u001b[0;32m--> 762\u001b[0;31m         \u001b[0mself\u001b[0m\u001b[0;34m.\u001b[0m\u001b[0m_event\u001b[0m\u001b[0;34m.\u001b[0m\u001b[0mwait\u001b[0m\u001b[0;34m(\u001b[0m\u001b[0mtimeout\u001b[0m\u001b[0;34m)\u001b[0m\u001b[0;34m\u001b[0m\u001b[0;34m\u001b[0m\u001b[0m\n\u001b[0m\u001b[1;32m    763\u001b[0m \u001b[0;34m\u001b[0m\u001b[0m\n\u001b[1;32m    764\u001b[0m     \u001b[0;32mdef\u001b[0m \u001b[0mget\u001b[0m\u001b[0;34m(\u001b[0m\u001b[0mself\u001b[0m\u001b[0;34m,\u001b[0m \u001b[0mtimeout\u001b[0m\u001b[0;34m=\u001b[0m\u001b[0;32mNone\u001b[0m\u001b[0;34m)\u001b[0m\u001b[0;34m:\u001b[0m\u001b[0;34m\u001b[0m\u001b[0;34m\u001b[0m\u001b[0m\n",
      "\u001b[0;32m/opt/conda/lib/python3.8/threading.py\u001b[0m in \u001b[0;36mwait\u001b[0;34m(self, timeout)\u001b[0m\n\u001b[1;32m    556\u001b[0m             \u001b[0msignaled\u001b[0m \u001b[0;34m=\u001b[0m \u001b[0mself\u001b[0m\u001b[0;34m.\u001b[0m\u001b[0m_flag\u001b[0m\u001b[0;34m\u001b[0m\u001b[0;34m\u001b[0m\u001b[0m\n\u001b[1;32m    557\u001b[0m             \u001b[0;32mif\u001b[0m \u001b[0;32mnot\u001b[0m \u001b[0msignaled\u001b[0m\u001b[0;34m:\u001b[0m\u001b[0;34m\u001b[0m\u001b[0;34m\u001b[0m\u001b[0m\n\u001b[0;32m--> 558\u001b[0;31m                 \u001b[0msignaled\u001b[0m \u001b[0;34m=\u001b[0m \u001b[0mself\u001b[0m\u001b[0;34m.\u001b[0m\u001b[0m_cond\u001b[0m\u001b[0;34m.\u001b[0m\u001b[0mwait\u001b[0m\u001b[0;34m(\u001b[0m\u001b[0mtimeout\u001b[0m\u001b[0;34m)\u001b[0m\u001b[0;34m\u001b[0m\u001b[0;34m\u001b[0m\u001b[0m\n\u001b[0m\u001b[1;32m    559\u001b[0m             \u001b[0;32mreturn\u001b[0m \u001b[0msignaled\u001b[0m\u001b[0;34m\u001b[0m\u001b[0;34m\u001b[0m\u001b[0m\n\u001b[1;32m    560\u001b[0m \u001b[0;34m\u001b[0m\u001b[0m\n",
      "\u001b[0;32m/opt/conda/lib/python3.8/threading.py\u001b[0m in \u001b[0;36mwait\u001b[0;34m(self, timeout)\u001b[0m\n\u001b[1;32m    300\u001b[0m         \u001b[0;32mtry\u001b[0m\u001b[0;34m:\u001b[0m    \u001b[0;31m# restore state no matter what (e.g., KeyboardInterrupt)\u001b[0m\u001b[0;34m\u001b[0m\u001b[0;34m\u001b[0m\u001b[0m\n\u001b[1;32m    301\u001b[0m             \u001b[0;32mif\u001b[0m \u001b[0mtimeout\u001b[0m \u001b[0;32mis\u001b[0m \u001b[0;32mNone\u001b[0m\u001b[0;34m:\u001b[0m\u001b[0;34m\u001b[0m\u001b[0;34m\u001b[0m\u001b[0m\n\u001b[0;32m--> 302\u001b[0;31m                 \u001b[0mwaiter\u001b[0m\u001b[0;34m.\u001b[0m\u001b[0macquire\u001b[0m\u001b[0;34m(\u001b[0m\u001b[0;34m)\u001b[0m\u001b[0;34m\u001b[0m\u001b[0;34m\u001b[0m\u001b[0m\n\u001b[0m\u001b[1;32m    303\u001b[0m                 \u001b[0mgotit\u001b[0m \u001b[0;34m=\u001b[0m \u001b[0;32mTrue\u001b[0m\u001b[0;34m\u001b[0m\u001b[0;34m\u001b[0m\u001b[0m\n\u001b[1;32m    304\u001b[0m             \u001b[0;32melse\u001b[0m\u001b[0;34m:\u001b[0m\u001b[0;34m\u001b[0m\u001b[0;34m\u001b[0m\u001b[0m\n",
      "\u001b[0;31mKeyboardInterrupt\u001b[0m: "
     ]
    }
   ],
   "source": [
    "get_all_data(6,5,6,2)"
   ]
  },
  {
   "cell_type": "code",
   "execution_count": null,
   "id": "e0b66ee6",
   "metadata": {},
   "outputs": [],
   "source": []
  }
 ],
 "metadata": {
  "interpreter": {
   "hash": "ed64e5a8ec65e8575703d495269facee7e989d76102892ef4c34bce8b4483af7"
  },
  "kernelspec": {
   "display_name": "base",
   "language": "python",
   "name": "base"
  },
  "language_info": {
   "codemirror_mode": {
    "name": "ipython",
    "version": 3
   },
   "file_extension": ".py",
   "mimetype": "text/x-python",
   "name": "python",
   "nbconvert_exporter": "python",
   "pygments_lexer": "ipython3",
   "version": "3.8.3"
  }
 },
 "nbformat": 4,
 "nbformat_minor": 5
}
