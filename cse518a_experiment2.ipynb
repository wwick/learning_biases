{
 "cells": [
  {
   "cell_type": "code",
   "execution_count": 1,
   "id": "cecdb1c5",
   "metadata": {},
   "outputs": [],
   "source": [
    "%load_ext autoreload\n",
    "%autoreload 2"
   ]
  },
  {
   "cell_type": "code",
   "execution_count": 12,
   "id": "3ed3298e",
   "metadata": {},
   "outputs": [],
   "source": [
    "from gridworld import GridworldMdp\n",
    "from agents import OptimalAgent, MyopicAgent\n",
    "from fast_agents import FastMyopicAgent, FastOptimalAgent\n",
    "from mdp_interface import Mdp\n",
    "from agent_runner import run_agent, get_reward_from_trajectory\n",
    "import numpy as np\n",
    "from multiprocessing import Pool\n",
    "import tqdm\n",
    "from maia_chess_backend.maia.tfprocess import get_tfp\n",
    "import tensorflow as tf"
   ]
  },
  {
   "cell_type": "code",
   "execution_count": 3,
   "id": "4d2e35e6",
   "metadata": {},
   "outputs": [],
   "source": [
    "np.set_printoptions(precision=5, linewidth=200)"
   ]
  },
  {
   "cell_type": "code",
   "execution_count": null,
   "id": "f545175a",
   "metadata": {},
   "outputs": [],
   "source": [
    "def gen_gridworld_arr(gridworld):\n",
    "    arr = np.zeros((3,width,height), dtype=np.int8)\n",
    "    arr[0] = np.array(gridworld.walls)\n",
    "    \n",
    "    for (x,y) in gridworld.rewards:\n",
    "        arr[1,x,y] = gridworld.rewards[(x,y)]\n",
    "        \n",
    "    (x,y) = gridworld.get_start_state()\n",
    "    arr[2,x,y] = 1\n",
    "    \n",
    "    return arr"
   ]
  },
  {
   "cell_type": "code",
   "execution_count": null,
   "id": "68c7619d",
   "metadata": {},
   "outputs": [],
   "source": [
    "def gen_random_connected(height, width, num_rewards):\n",
    "    for _ in range(5):\n",
    "        try:\n",
    "            return GridworldMdp.generate_random_connected(height=height,width=width,num_rewards=num_rewards,noise=0)\n",
    "        except:\n",
    "            pass\n",
    "    raise ValueError('Could not generate Gridworld')"
   ]
  },
  {
   "cell_type": "code",
   "execution_count": null,
   "id": "f451548e",
   "metadata": {
    "tags": []
   },
   "outputs": [],
   "source": [
    "height=6\n",
    "width=6\n",
    "num_rewards=4\n",
    "\n",
    "gamma = 0.9\n",
    "myopic_horizon = 2\n",
    "\n",
    "episode_length = 5\n",
    "cost = 1\n",
    "\n",
    "# change this if adjusting episode_length or num_interventions\n",
    "# num_trials_per_grid = 512\n",
    "\n",
    "num_entries_per_trial = 1\n",
    "\n",
    "def get_minibatch(gridworld, curr_state, action):\n",
    "    mdp = Mdp(gridworld, curr_state)\n",
    "    next_state,reward = mdp.perform_action(action)\n",
    "    minibatch = (curr_state, action, next_state, reward)\n",
    "    return minibatch, next_state\n",
    "\n",
    "def gen_data(num_grids):\n",
    "\n",
    "    data = np.zeros((num_grids,4, height,width))\n",
    "    trial = 0\n",
    "\n",
    "    for i in range(num_grids):\n",
    "#         print(f'Iter {i}', end='\\r')\n",
    "        gridworld = gen_random_connected(height, width, num_rewards)\n",
    "        mdp = Mdp(gridworld)\n",
    "        gridworld_arr = gen_gridworld_arr(gridworld)\n",
    "        start_state = gridworld.get_start_state()\n",
    "        mdp.gridworld.start_state = start_state\n",
    "        \n",
    "        \n",
    "        dummy_agent = FastMyopicAgent(horizon=episode_length)\n",
    "        dummy_agent.set_mdp(gridworld)\n",
    "        \n",
    "        def recurse(agent_list, moves_left):\n",
    "            if moves_left == 0: return [agent_list]\n",
    "\n",
    "            myopic_agent = FastMyopicAgent(horizon=min(moves_left, myopic_horizon))\n",
    "            optimal_agent = FastMyopicAgent(horizon=moves_left)\n",
    "\n",
    "            l1 = recurse(agent_list+[(0,myopic_agent)], moves_left-1)\n",
    "            l2 = recurse(agent_list+[(1,optimal_agent)], moves_left-1)\n",
    "\n",
    "            return l1+l2\n",
    "        \n",
    "        \n",
    "        agent_lists = recurse([], episode_length)\n",
    "        #print([[i[0] for i in agent_list] for agent_list in agent_lists])\n",
    "        rewards = []\n",
    "        \n",
    "        for agent_list in agent_lists:\n",
    "            num_ints = sum([j[0] for j in agent_list])\n",
    "            agent_list = [j[1] for j in agent_list]\n",
    "            trajectory = run_agent(dummy_agent, mdp, episode_length=episode_length, agent_list=agent_list)\n",
    "            rewards.append(get_reward_from_trajectory(trajectory) - num_ints*cost)\n",
    "#         print(rewards)\n",
    "        idx = np.array(rewards).argmax()\n",
    "#         print(i)\n",
    "#         print(agent_lists[i][0][0])\n",
    "\n",
    "        data[i,:3] = gridworld_arr\n",
    "        data[i,3] = agent_lists[idx][0][0]\n",
    "    return data"
   ]
  },
  {
   "cell_type": "code",
   "execution_count": null,
   "id": "cb629a8f",
   "metadata": {},
   "outputs": [],
   "source": [
    "%%time\n",
    "with Pool(32) as p:\n",
    "#     experiment2 = p.map(gen_data, [1]*1000)\n",
    "    n = 4000000\n",
    "    experiment2_big = list(tqdm.tqdm(p.imap(gen_data, [1]*n), total=n))"
   ]
  },
  {
   "cell_type": "code",
   "execution_count": null,
   "id": "a741743e",
   "metadata": {},
   "outputs": [],
   "source": [
    "experiment2 = np.concatenate(experiment2)\n",
    "experiment2.shape"
   ]
  },
  {
   "cell_type": "code",
   "execution_count": null,
   "id": "4676fb66",
   "metadata": {},
   "outputs": [],
   "source": []
  },
  {
   "cell_type": "code",
   "execution_count": null,
   "id": "985c4ee9",
   "metadata": {},
   "outputs": [],
   "source": []
  },
  {
   "cell_type": "code",
   "execution_count": 4,
   "id": "984ad2f8",
   "metadata": {},
   "outputs": [],
   "source": [
    "experiment2 = np.load('/scratch1/fs1/chien-ju.ho/RIS/518/experiment2.npy')"
   ]
  },
  {
   "cell_type": "code",
   "execution_count": 5,
   "id": "45aacba6",
   "metadata": {},
   "outputs": [
    {
     "data": {
      "text/plain": [
       "(1000000, 3, 6, 6)"
      ]
     },
     "execution_count": 5,
     "metadata": {},
     "output_type": "execute_result"
    }
   ],
   "source": [
    "x = experiment2[:,:3]\n",
    "x.shape"
   ]
  },
  {
   "cell_type": "code",
   "execution_count": 6,
   "id": "4cc688e5",
   "metadata": {},
   "outputs": [
    {
     "data": {
      "text/plain": [
       "(1000000,)"
      ]
     },
     "execution_count": 6,
     "metadata": {},
     "output_type": "execute_result"
    }
   ],
   "source": [
    "y = experiment2[:,3,0,0]\n",
    "y.shape"
   ]
  },
  {
   "cell_type": "code",
   "execution_count": 7,
   "id": "2f0ef2f0",
   "metadata": {},
   "outputs": [
    {
     "data": {
      "text/plain": [
       "0.4913"
      ]
     },
     "execution_count": 7,
     "metadata": {},
     "output_type": "execute_result"
    }
   ],
   "source": [
    "y.mean()"
   ]
  },
  {
   "cell_type": "code",
   "execution_count": null,
   "id": "668c0622",
   "metadata": {},
   "outputs": [],
   "source": []
  },
  {
   "cell_type": "code",
   "execution_count": 8,
   "id": "4d41b6e7",
   "metadata": {},
   "outputs": [
    {
     "name": "stdout",
     "output_type": "stream",
     "text": [
      "491300 508700\n",
      "245650 196520\n",
      "(245650, 3, 6, 6) (245650, 3, 6, 6)\n"
     ]
    },
    {
     "data": {
      "text/plain": [
       "((393040, 3, 6, 6), (393040,), (98260, 3, 6, 6), (98260,))"
      ]
     },
     "execution_count": 8,
     "metadata": {},
     "output_type": "execute_result"
    }
   ],
   "source": [
    "pos = (y==1)\n",
    "neg = (y==0)\n",
    "\n",
    "print(pos.sum(), neg.sum())\n",
    "\n",
    "n = int(min(pos.sum(), neg.sum()) * 0.5)\n",
    "div = int(n*0.8)\n",
    "\n",
    "print(n, div)\n",
    "\n",
    "xpos = x[pos][:n]\n",
    "xneg = x[neg][:n]\n",
    "ypos = y[pos][:n]\n",
    "yneg = y[neg][:n]\n",
    "\n",
    "print(xpos.shape, xneg.shape)\n",
    "\n",
    "xtrain = np.concatenate([xpos[:div],xneg[:div]])\n",
    "ytrain = np.concatenate([ypos[:div],yneg[:div]])\n",
    "\n",
    "\n",
    "xeval = np.concatenate([xpos[div:n],xneg[div:n]])\n",
    "yeval = np.concatenate([ypos[div:n],yneg[div:n]])\n",
    "\n",
    "xtrain.shape, ytrain.shape, xeval.shape, yeval.shape"
   ]
  },
  {
   "cell_type": "code",
   "execution_count": null,
   "id": "0ac041fe",
   "metadata": {},
   "outputs": [],
   "source": []
  },
  {
   "cell_type": "code",
   "execution_count": null,
   "id": "7591b94b",
   "metadata": {},
   "outputs": [],
   "source": []
  },
  {
   "cell_type": "code",
   "execution_count": 13,
   "id": "9aa216df",
   "metadata": {},
   "outputs": [],
   "source": [
    "tfp = get_tfp(filters=64, blocks=6, regularizer=False, input_size=3, board_size=6, output_size=1)\n",
    "\n",
    "optimizer = tfp.optimizer\n",
    "loss = tf.keras.losses.BinaryCrossentropy(from_logits=False)\n",
    "metrics = ['accuracy',tf.keras.metrics.Precision(),tf.keras.metrics.Recall(),tf.keras.metrics.AUC()]\n",
    "# metrics = ['accuracy']\n",
    "\n",
    "tfp.model.compile(optimizer, loss, metrics)"
   ]
  },
  {
   "cell_type": "code",
   "execution_count": 14,
   "id": "5249363b",
   "metadata": {},
   "outputs": [
    {
     "name": "stdout",
     "output_type": "stream",
     "text": [
      "12283/12283 [==============================] - 328s 26ms/step - loss: 0.1577 - accuracy: 0.9358 - precision: 0.9258 - recall: 0.9488 - auc: 0.9802\n",
      "3071/3071 [==============================] - 41s 13ms/step - loss: 0.0500 - accuracy: 0.9795 - precision: 0.9772 - recall: 0.9820 - auc: 0.9984\n"
     ]
    },
    {
     "data": {
      "text/plain": [
       "[0.05002376809716225,\n",
       " 0.9795440435409546,\n",
       " 0.9772322177886963,\n",
       " 0.9819661974906921,\n",
       " 0.9984188675880432]"
      ]
     },
     "execution_count": 14,
     "metadata": {},
     "output_type": "execute_result"
    }
   ],
   "source": [
    "## Second experiment\n",
    "tfp.model.fit(xtrain,ytrain)\n",
    "tfp.model.evaluate(xeval,yeval)"
   ]
  },
  {
   "cell_type": "code",
   "execution_count": null,
   "id": "a9e334f6",
   "metadata": {},
   "outputs": [],
   "source": []
  }
 ],
 "metadata": {
  "interpreter": {
   "hash": "ed64e5a8ec65e8575703d495269facee7e989d76102892ef4c34bce8b4483af7"
  },
  "kernelspec": {
   "display_name": "base",
   "language": "python",
   "name": "base"
  },
  "language_info": {
   "codemirror_mode": {
    "name": "ipython",
    "version": 3
   },
   "file_extension": ".py",
   "mimetype": "text/x-python",
   "name": "python",
   "nbconvert_exporter": "python",
   "pygments_lexer": "ipython3",
   "version": "3.8.3"
  }
 },
 "nbformat": 4,
 "nbformat_minor": 5
}
